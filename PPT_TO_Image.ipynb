{
 "cells": [
  {
   "cell_type": "code",
   "execution_count": 21,
   "metadata": {},
   "outputs": [],
   "source": [
    "# !pip3 install python-pptx"
   ]
  },
  {
   "cell_type": "markdown",
   "metadata": {},
   "source": [
    "## Extract Image from pptx"
   ]
  },
  {
   "cell_type": "code",
   "execution_count": 29,
   "metadata": {},
   "outputs": [],
   "source": [
    "from pptx import Presentation\n",
    "from pptx.enum.shapes import MSO_SHAPE_TYPE\n",
    "\n",
    "def iter_picture_shapes(prs):\n",
    "    for slide in prs.slides:\n",
    "        for shape in slide.shapes:\n",
    "            if shape.shape_type == MSO_SHAPE_TYPE.PICTURE:\n",
    "                yield shape\n",
    "\n",
    "for picture in iter_picture_shapes(Presentation('Minor Project - Final.pptx')):\n",
    "    image = picture.image\n",
    "    # ---get image \"file\" contents---\n",
    "    image_bytes = image.blob\n",
    "    # ---make up a name for the file, e.g. 'image.jpg'---\n",
    "    image_filename = 'image.b%s' % image.ext\n",
    "    with open(image_filename, 'wb') as f:\n",
    "        f.write(image_bytes)"
   ]
  },
  {
   "cell_type": "markdown",
   "metadata": {},
   "source": [
    "## Extract Image From PPT"
   ]
  },
  {
   "cell_type": "code",
   "execution_count": null,
   "metadata": {},
   "outputs": [],
   "source": [
    "# need change in etc/imagemagick/policy.xml\n",
    "#<policy domain=\"coder\" rights=\"read|write\" pattern=\"PDF\" />"
   ]
  },
  {
   "cell_type": "code",
   "execution_count": 31,
   "metadata": {},
   "outputs": [
    {
     "name": "stdout",
     "output_type": "stream",
     "text": [
      "convert /home/falcon-puneet/Downloads/Minor Project - Final.pptx -> /home/falcon-puneet/Downloads/Minor Project - Final.pdf using filter : impress_pdf_Export\r\n"
     ]
    }
   ],
   "source": [
    "!soffice --headless --convert-to pdf 'Minor Project - Final.pptx'"
   ]
  },
  {
   "cell_type": "code",
   "execution_count": 35,
   "metadata": {},
   "outputs": [],
   "source": [
    "!convert -density 150 'Minor Project - Final.pdf' -quality 80 'temp.png'\n"
   ]
  },
  {
   "cell_type": "markdown",
   "metadata": {},
   "source": [
    "## Extract Text From docs,pdf,ppt"
   ]
  },
  {
   "cell_type": "code",
   "execution_count": 2,
   "metadata": {},
   "outputs": [
    {
     "ename": "ModuleNotFoundError",
     "evalue": "No module named 'pptx'",
     "output_type": "error",
     "traceback": [
      "\u001b[0;31m---------------------------------------------------------------------------\u001b[0m",
      "\u001b[0;31mModuleNotFoundError\u001b[0m                       Traceback (most recent call last)",
      "\u001b[0;32m<ipython-input-2-ecfb9ad79f66>\u001b[0m in \u001b[0;36m<module>\u001b[0;34m\u001b[0m\n\u001b[1;32m      3\u001b[0m \u001b[0;31m# HELLO SIR, FIRSTLY YOU HAVE TO DOWNLOAD ----> pptx, pypdf2, docx library\u001b[0m\u001b[0;34m\u001b[0m\u001b[0;34m\u001b[0m\u001b[0;34m\u001b[0m\u001b[0m\n\u001b[1;32m      4\u001b[0m \u001b[0;34m\u001b[0m\u001b[0m\n\u001b[0;32m----> 5\u001b[0;31m \u001b[0;32mfrom\u001b[0m \u001b[0mpptx\u001b[0m \u001b[0;32mimport\u001b[0m \u001b[0mPresentation\u001b[0m  \u001b[0;31m# pip install python-pptx\u001b[0m\u001b[0;34m\u001b[0m\u001b[0;34m\u001b[0m\u001b[0m\n\u001b[0m\u001b[1;32m      6\u001b[0m \u001b[0;32mimport\u001b[0m \u001b[0mPyPDF2\u001b[0m       \u001b[0;31m# pip install PyPDF2\u001b[0m\u001b[0;34m\u001b[0m\u001b[0;34m\u001b[0m\u001b[0m\n\u001b[1;32m      7\u001b[0m \u001b[0;32mimport\u001b[0m \u001b[0mdocx\u001b[0m         \u001b[0;31m# pip install python-docx\u001b[0m\u001b[0;34m\u001b[0m\u001b[0;34m\u001b[0m\u001b[0m\n",
      "\u001b[0;31mModuleNotFoundError\u001b[0m: No module named 'pptx'"
     ]
    }
   ],
   "source": [
    "#Coder : Vivek Chandola\n",
    "\n",
    "# HELLO SIR, FIRSTLY YOU HAVE TO DOWNLOAD ----> pptx, pypdf2, docx library\n",
    "\n",
    "from pptx import Presentation  # pip install python-pptx\n",
    "import PyPDF2       # pip install PyPDF2\n",
    "import docx         # pip install python-docx\n",
    "\n",
    "import json\n",
    "import win32com\n",
    "import win32com.client\n",
    "import os\n",
    "\n",
    "def get_pptx_data(inputFileName):\n",
    "    prs=Presentation(inputFileName)\n",
    "    l=[]\n",
    "    for slide in prs.slides:\n",
    "        s=''\n",
    "        for shape in slide.shapes:\n",
    "            if hasattr(shape, \"text\"):\n",
    "                s+=shape.text\n",
    "        l.append(s)\n",
    "\n",
    "    #with open('ppt_data.txt','w') as f:\n",
    "     #   f.write(json.dumps(l))\n",
    "    return l\n",
    "\n",
    "def PPTtoPNG(inputFileName, outputFileName):            # THIS FUNCTION NOT WORK PROPERLY, i am working on it.\n",
    "    formatType = 18\n",
    "    powerpoint = win32com.client.Dispatch(\"Powerpoint.Application\")\n",
    "    powerpoint.Visible = 1\n",
    "\n",
    "    outputFileName += 'abcd1.png'\n",
    "    deck = powerpoint.Presentations.Open(inputFileName, WithWindow=False)\n",
    "    deck.SaveAs(outputFileName, formatType)\n",
    "    deck.Close()\n",
    "    powerpoint.Quit()\n",
    "    l1=[]\n",
    "    for i in os.listdir(outputFileName):\n",
    "        l1.append(i)\n",
    "    print(l1)\n",
    "    return l1\n",
    "\n",
    "def get_pdf_data(inputFileName, outputFileName):\n",
    "    pdf_obj = open(inputFileName, 'rb')\n",
    "    pdfReader = PyPDF2.PdfFileReader(pdf_obj)\n",
    "    n = pdfReader.numPages\n",
    "    d={}\n",
    "    for i in range(n):\n",
    "        pageObj = pdfReader.getPage(i)\n",
    "        text = pageObj.extractText()\n",
    "        d[i+1] = text\n",
    "    pdf_obj.close()\n",
    "    return d\n",
    "\n",
    "def get_doc_data(inputFileName, outputFileName):\n",
    "    doc = docx.Document(inputFileName)\n",
    "    all_paras = doc.paragraphs\n",
    "    print(len(all_paras))\n",
    "    i=1\n",
    "    d={}\n",
    "    for para in all_paras:\n",
    "        # print(para.text)\n",
    "        d[i]=(para.text)\n",
    "        i+=1\n",
    "    return d\n",
    "\n",
    "def Get_Boarded(file_path, folder_path):\n",
    "    if file_path[-3:len(file_path)]=='ppt' or file_path[-4:len(file_path)]=='pptx':\n",
    "        ppt_text = get_pptx_data(file_path)                              # It RETURN LIST of Each Slide Data.\n",
    "        print(ppt_text)\n",
    "\n",
    "        \"\"\"\n",
    "        png_file = PPTtoPNG(file_path, folder_path)                      # THIS FUNCTION GIVES ERROR and I THINK IT IS ONLY WORK IN WINDOWS OS.\n",
    "        print(png_file)\n",
    "        ppt_dict={}\n",
    "        for i in range(len(ppt_text)):\n",
    "            ppt_dict[i+1]=[ppt_text[i],png_file[i]]\n",
    "        print(ppt_dict)\"\"\"\n",
    "\n",
    "    elif file_path[-3:len(file_path)]=='pdf':\n",
    "        pdf_text = get_pdf_data(file_path, folder_path)                  # IT RETURN dictionary (key-value pair) where key=1,2,3,4,... and value=each page data\n",
    "        for i in pdf_text:\n",
    "            print(i, pdf_text[i])\n",
    "\n",
    "    elif file_path[-3:len(file_path)]=='doc' or file_path[-4:len(file_path)]=='docx':\n",
    "        doc_text = get_doc_data(file_path, folder_path)                  # IT RETURN dictionary (key-value pair) where key=1,2,3,4,... and value=each paragraph data\n",
    "        for i in doc_text:\n",
    "            print(i, doc_text[i])\n",
    "\n",
    "\n",
    "# file_path = \"C:\\\\Users\\\\Dell\\\\Desktop\\\\GETBOARDED\\\\FYP_PPT.pptx\"\n",
    "# file_path = \"C:\\\\Users\\\\Dell\\\\Desktop\\\\GETBOARDED\\\\Hello.pdf\"\n",
    "# file_path = \"C:\\\\Users\\\\Dell\\\\Desktop\\\\GETBOARDED\\\\FYP.docx\"\n",
    "\n",
    "\n",
    "file_path = input('Enter Your File Path')\n",
    "folder_path = \"\"\n",
    "Get_Boarded(file_path, folder_path)"
   ]
  },
  {
   "cell_type": "code",
   "execution_count": null,
   "metadata": {},
   "outputs": [],
   "source": []
  }
 ],
 "metadata": {
  "kernelspec": {
   "display_name": "Python 3",
   "language": "python",
   "name": "python3"
  },
  "language_info": {
   "codemirror_mode": {
    "name": "ipython",
    "version": 3
   },
   "file_extension": ".py",
   "mimetype": "text/x-python",
   "name": "python",
   "nbconvert_exporter": "python",
   "pygments_lexer": "ipython3",
   "version": "3.8.5"
  }
 },
 "nbformat": 4,
 "nbformat_minor": 4
}
